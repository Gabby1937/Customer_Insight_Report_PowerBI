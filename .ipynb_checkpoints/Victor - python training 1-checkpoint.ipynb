{
 "cells": [
  {
   "cell_type": "markdown",
   "id": "50f4abea",
   "metadata": {},
   "source": []
  },
  {
   "cell_type": "code",
   "execution_count": null,
   "id": "469169ef",
   "metadata": {},
   "outputs": [],
   "source": []
  },
  {
   "cell_type": "code",
   "execution_count": 2,
   "id": "a63b464b",
   "metadata": {},
   "outputs": [
    {
     "data": {
      "text/plain": [
       "3.3333333333333335"
      ]
     },
     "execution_count": 2,
     "metadata": {},
     "output_type": "execute_result"
    }
   ],
   "source": [
    "10/3"
   ]
  },
  {
   "cell_type": "code",
   "execution_count": 3,
   "id": "18e0b974",
   "metadata": {},
   "outputs": [
    {
     "data": {
      "text/plain": [
       "3"
      ]
     },
     "execution_count": 3,
     "metadata": {},
     "output_type": "execute_result"
    }
   ],
   "source": [
    "10//3"
   ]
  },
  {
   "cell_type": "code",
   "execution_count": 5,
   "id": "4e70bd5f",
   "metadata": {},
   "outputs": [
    {
     "data": {
      "text/plain": [
       "1"
      ]
     },
     "execution_count": 5,
     "metadata": {},
     "output_type": "execute_result"
    }
   ],
   "source": [
    "10%3"
   ]
  },
  {
   "cell_type": "code",
   "execution_count": 6,
   "id": "0a476911",
   "metadata": {},
   "outputs": [],
   "source": [
    "name = \"mike\""
   ]
  },
  {
   "cell_type": "code",
   "execution_count": 7,
   "id": "3683991f",
   "metadata": {},
   "outputs": [
    {
     "data": {
      "text/plain": [
       "'mike'"
      ]
     },
     "execution_count": 7,
     "metadata": {},
     "output_type": "execute_result"
    }
   ],
   "source": [
    "name"
   ]
  },
  {
   "cell_type": "code",
   "execution_count": 8,
   "id": "c9b4b46e",
   "metadata": {},
   "outputs": [
    {
     "name": "stdout",
     "output_type": "stream",
     "text": [
      "94608000\n"
     ]
    }
   ],
   "source": [
    "second = 1\n",
    "minute = second * 60\n",
    "hour = minute * 60\n",
    "day = hour * 24\n",
    "year = day * 365\n",
    "answer = year * 3\n",
    "print(answer)\n"
   ]
  },
  {
   "cell_type": "code",
   "execution_count": 9,
   "id": "65c73665",
   "metadata": {},
   "outputs": [
    {
     "name": "stdout",
     "output_type": "stream",
     "text": [
      "first name: victor\n",
      "surname: akpofure\n"
     ]
    },
    {
     "name": "stderr",
     "output_type": "stream",
     "text": [
      "\n",
      "KeyboardInterrupt\n",
      "\n"
     ]
    }
   ],
   "source": [
    "first_name = input(\"first name: \")\n",
    "surname = input(\"surname: \")\n",
    "phone = input(\"phone number: \")\n",
    "\n",
    "print(first_name)\n",
    "print(surname)\n",
    "print(phone)"
   ]
  },
  {
   "cell_type": "code",
   "execution_count": 15,
   "id": "6f415bd2",
   "metadata": {},
   "outputs": [
    {
     "name": "stdout",
     "output_type": "stream",
     "text": [
      "enter colorbrown\n",
      "wrong color\n"
     ]
    }
   ],
   "source": [
    "color = input('enter color')\n",
    "if color == 'red':\n",
    "    print(\"stop\")\n",
    "    \n",
    "elif color == \"yellow\":\n",
    "    print(\"ready\")\n",
    "    \n",
    "elif color == \"green\":\n",
    "    print(\"go\")\n",
    "    \n",
    "else:\n",
    "    print(\"wrong color\")"
   ]
  },
  {
   "cell_type": "code",
   "execution_count": 19,
   "id": "cf87e7e0",
   "metadata": {},
   "outputs": [
    {
     "name": "stdout",
     "output_type": "stream",
     "text": [
      "7654321\n",
      "unlock\n"
     ]
    }
   ],
   "source": [
    "set_password = 7654321\n",
    "password = int(input())\n",
    "\n",
    "if password == set_password:\n",
    "    print(\"unlock\")\n",
    "else: \n",
    "    print(\"wrong password\")\n",
    "    print(\"try again\")\n",
    "    "
   ]
  },
  {
   "cell_type": "code",
   "execution_count": 20,
   "id": "b8381e31",
   "metadata": {},
   "outputs": [
    {
     "name": "stdout",
     "output_type": "stream",
     "text": [
      "5\n",
      "6\n",
      "11\n"
     ]
    }
   ],
   "source": [
    "def add():\n",
    "    num1 = int(input())\n",
    "    num2 = int(input())\n",
    "    answer = num1 + num2\n",
    "    print(answer)\n",
    "add()"
   ]
  },
  {
   "cell_type": "code",
   "execution_count": 21,
   "id": "503437cc",
   "metadata": {},
   "outputs": [
    {
     "name": "stdout",
     "output_type": "stream",
     "text": [
      "72\n",
      "22\n",
      "94\n"
     ]
    }
   ],
   "source": [
    "add()"
   ]
  },
  {
   "cell_type": "code",
   "execution_count": null,
   "id": "f0737594",
   "metadata": {},
   "outputs": [],
   "source": [
    "def check (num)\n",
    "if num % 2 == 0:\n",
    "    print(num, \"even number\")\n",
    "    else: \n",
    "        print(num, \"odd number\")\n",
    "check(add())"
   ]
  }
 ],
 "metadata": {
  "kernelspec": {
   "display_name": "Python 3 (ipykernel)",
   "language": "python",
   "name": "python3"
  },
  "language_info": {
   "codemirror_mode": {
    "name": "ipython",
    "version": 3
   },
   "file_extension": ".py",
   "mimetype": "text/x-python",
   "name": "python",
   "nbconvert_exporter": "python",
   "pygments_lexer": "ipython3",
   "version": "3.11.4"
  }
 },
 "nbformat": 4,
 "nbformat_minor": 5
}
